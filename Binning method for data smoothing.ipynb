{
 "cells": [
  {
   "cell_type": "code",
   "execution_count": 20,
   "metadata": {},
   "outputs": [],
   "source": [
    "from sklearn.datasets import load_iris"
   ]
  },
  {
   "cell_type": "code",
   "execution_count": 21,
   "metadata": {},
   "outputs": [],
   "source": [
    "dataset = load_iris()"
   ]
  },
  {
   "cell_type": "code",
   "execution_count": 22,
   "metadata": {},
   "outputs": [],
   "source": [
    "a = dataset.data"
   ]
  },
  {
   "cell_type": "code",
   "execution_count": 23,
   "metadata": {},
   "outputs": [
    {
     "data": {
      "text/plain": [
       "(150, 4)"
      ]
     },
     "execution_count": 23,
     "metadata": {},
     "output_type": "execute_result"
    }
   ],
   "source": [
    "a.shape"
   ]
  },
  {
   "cell_type": "code",
   "execution_count": 24,
   "metadata": {
    "scrolled": true
   },
   "outputs": [
    {
     "data": {
      "text/plain": [
       "array([[5.1, 3.5, 1.4, 0.2],\n",
       "       [4.9, 3. , 1.4, 0.2],\n",
       "       [4.7, 3.2, 1.3, 0.2],\n",
       "       [4.6, 3.1, 1.5, 0.2],\n",
       "       [5. , 3.6, 1.4, 0.2],\n",
       "       [5.4, 3.9, 1.7, 0.4],\n",
       "       [4.6, 3.4, 1.4, 0.3],\n",
       "       [5. , 3.4, 1.5, 0.2],\n",
       "       [4.4, 2.9, 1.4, 0.2],\n",
       "       [4.9, 3.1, 1.5, 0.1]])"
      ]
     },
     "execution_count": 24,
     "metadata": {},
     "output_type": "execute_result"
    }
   ],
   "source": [
    "a[:10]"
   ]
  },
  {
   "cell_type": "code",
   "execution_count": 25,
   "metadata": {},
   "outputs": [],
   "source": [
    "import numpy as np"
   ]
  },
  {
   "cell_type": "code",
   "execution_count": 26,
   "metadata": {},
   "outputs": [],
   "source": [
    "b = np.zeros(shape=150)"
   ]
  },
  {
   "cell_type": "code",
   "execution_count": 27,
   "metadata": {},
   "outputs": [
    {
     "data": {
      "text/plain": [
       "numpy.ndarray"
      ]
     },
     "execution_count": 27,
     "metadata": {},
     "output_type": "execute_result"
    }
   ],
   "source": [
    "type(b)"
   ]
  },
  {
   "cell_type": "code",
   "execution_count": 28,
   "metadata": {},
   "outputs": [
    {
     "data": {
      "text/plain": [
       "(150,)"
      ]
     },
     "execution_count": 28,
     "metadata": {},
     "output_type": "execute_result"
    }
   ],
   "source": [
    "b.shape"
   ]
  },
  {
   "cell_type": "code",
   "execution_count": 31,
   "metadata": {},
   "outputs": [
    {
     "data": {
      "text/plain": [
       "array([0., 0., 0.])"
      ]
     },
     "execution_count": 31,
     "metadata": {},
     "output_type": "execute_result"
    }
   ],
   "source": [
    "b[:3]"
   ]
  },
  {
   "cell_type": "markdown",
   "metadata": {},
   "source": [
    "## بین چهار تا ستون دیتاست، اولین رو در نظر بگیرید توجه کنید دنیای نرم افزار از صفر می شمارن"
   ]
  },
  {
   "cell_type": "code",
   "execution_count": 32,
   "metadata": {},
   "outputs": [],
   "source": [
    "for i in range (150): \n",
    "    b[i]=a[i,1]"
   ]
  },
  {
   "cell_type": "code",
   "execution_count": 33,
   "metadata": {},
   "outputs": [
    {
     "data": {
      "text/plain": [
       "array([3.5, 3. , 3.2, 3.1, 3.6, 3.9, 3.4, 3.4, 2.9, 3.1])"
      ]
     },
     "execution_count": 33,
     "metadata": {},
     "output_type": "execute_result"
    }
   ],
   "source": [
    "b[:10]"
   ]
  },
  {
   "cell_type": "markdown",
   "metadata": {},
   "source": [
    "## sort the array "
   ]
  },
  {
   "cell_type": "code",
   "execution_count": 34,
   "metadata": {},
   "outputs": [],
   "source": [
    "b=np.sort(b)"
   ]
  },
  {
   "cell_type": "code",
   "execution_count": 35,
   "metadata": {},
   "outputs": [
    {
     "data": {
      "text/plain": [
       "array([2. , 2.2, 2.2, 2.2, 2.3])"
      ]
     },
     "execution_count": 35,
     "metadata": {},
     "output_type": "execute_result"
    }
   ],
   "source": [
    "b[:5]"
   ]
  },
  {
   "cell_type": "markdown",
   "metadata": {},
   "source": [
    "## create bins"
   ]
  },
  {
   "cell_type": "code",
   "execution_count": 36,
   "metadata": {},
   "outputs": [],
   "source": [
    "bin1=np.zeros((30,5))  \n",
    "bin2=np.zeros((30,5)) \n",
    "bin3=np.zeros((30,5))"
   ]
  },
  {
   "cell_type": "code",
   "execution_count": 38,
   "metadata": {},
   "outputs": [
    {
     "data": {
      "text/plain": [
       "(30, 5)"
      ]
     },
     "execution_count": 38,
     "metadata": {},
     "output_type": "execute_result"
    }
   ],
   "source": [
    "bin1.shape"
   ]
  },
  {
   "cell_type": "code",
   "execution_count": 41,
   "metadata": {},
   "outputs": [
    {
     "data": {
      "text/plain": [
       "array([[0., 0., 0., 0., 0.],\n",
       "       [0., 0., 0., 0., 0.],\n",
       "       [0., 0., 0., 0., 0.],\n",
       "       [0., 0., 0., 0., 0.]])"
      ]
     },
     "execution_count": 41,
     "metadata": {},
     "output_type": "execute_result"
    }
   ],
   "source": [
    "bin1[:4]"
   ]
  },
  {
   "cell_type": "markdown",
   "metadata": {},
   "source": [
    "## Bin mean"
   ]
  },
  {
   "cell_type": "code",
   "execution_count": 42,
   "metadata": {},
   "outputs": [
    {
     "name": "stdout",
     "output_type": "stream",
     "text": [
      "Bin Mean: \n",
      " [[2.18 2.18 2.18 2.18 2.18]\n",
      " [2.34 2.34 2.34 2.34 2.34]\n",
      " [2.48 2.48 2.48 2.48 2.48]\n",
      " [2.52 2.52 2.52 2.52 2.52]\n",
      " [2.62 2.62 2.62 2.62 2.62]\n",
      " [2.7  2.7  2.7  2.7  2.7 ]\n",
      " [2.74 2.74 2.74 2.74 2.74]\n",
      " [2.8  2.8  2.8  2.8  2.8 ]\n",
      " [2.8  2.8  2.8  2.8  2.8 ]\n",
      " [2.86 2.86 2.86 2.86 2.86]\n",
      " [2.9  2.9  2.9  2.9  2.9 ]\n",
      " [2.96 2.96 2.96 2.96 2.96]\n",
      " [3.   3.   3.   3.   3.  ]\n",
      " [3.   3.   3.   3.   3.  ]\n",
      " [3.   3.   3.   3.   3.  ]\n",
      " [3.   3.   3.   3.   3.  ]\n",
      " [3.04 3.04 3.04 3.04 3.04]\n",
      " [3.1  3.1  3.1  3.1  3.1 ]\n",
      " [3.1  3.1  3.1  3.1  3.1 ]\n",
      " [3.2  3.2  3.2  3.2  3.2 ]\n",
      " [3.2  3.2  3.2  3.2  3.2 ]\n",
      " [3.24 3.24 3.24 3.24 3.24]\n",
      " [3.32 3.32 3.32 3.32 3.32]\n",
      " [3.4  3.4  3.4  3.4  3.4 ]\n",
      " [3.4  3.4  3.4  3.4  3.4 ]\n",
      " [3.48 3.48 3.48 3.48 3.48]\n",
      " [3.56 3.56 3.56 3.56 3.56]\n",
      " [3.74 3.74 3.74 3.74 3.74]\n",
      " [3.82 3.82 3.82 3.82 3.82]\n",
      " [4.12 4.12 4.12 4.12 4.12]]\n"
     ]
    }
   ],
   "source": [
    "for i in range (0,150,5): \n",
    "    k=int(i/5) \n",
    "    mean=(b[i] + b[i+1] + b[i+2] + b[i+3] + b[i+4])/5\n",
    "    for j in range(5): \n",
    "        bin1[k,j]=mean \n",
    "print(\"Bin Mean: \\n\",bin1)"
   ]
  },
  {
   "cell_type": "markdown",
   "metadata": {},
   "source": [
    "## Bin median"
   ]
  },
  {
   "cell_type": "code",
   "execution_count": 45,
   "metadata": {},
   "outputs": [
    {
     "name": "stdout",
     "output_type": "stream",
     "text": [
      "Bin Median: \n",
      " [[2.2 2.2 2.2 2.2 2.2]\n",
      " [2.3 2.3 2.3 2.3 2.3]\n",
      " [2.5 2.5 2.5 2.5 2.5]\n",
      " [2.5 2.5 2.5 2.5 2.5]\n",
      " [2.6 2.6 2.6 2.6 2.6]\n",
      " [2.7 2.7 2.7 2.7 2.7]\n",
      " [2.7 2.7 2.7 2.7 2.7]\n",
      " [2.8 2.8 2.8 2.8 2.8]\n",
      " [2.8 2.8 2.8 2.8 2.8]\n",
      " [2.9 2.9 2.9 2.9 2.9]\n",
      " [2.9 2.9 2.9 2.9 2.9]\n",
      " [3.  3.  3.  3.  3. ]\n",
      " [3.  3.  3.  3.  3. ]\n",
      " [3.  3.  3.  3.  3. ]\n",
      " [3.  3.  3.  3.  3. ]\n",
      " [3.  3.  3.  3.  3. ]\n",
      " [3.  3.  3.  3.  3. ]\n",
      " [3.1 3.1 3.1 3.1 3.1]\n",
      " [3.1 3.1 3.1 3.1 3.1]\n",
      " [3.2 3.2 3.2 3.2 3.2]\n",
      " [3.2 3.2 3.2 3.2 3.2]\n",
      " [3.2 3.2 3.2 3.2 3.2]\n",
      " [3.3 3.3 3.3 3.3 3.3]\n",
      " [3.4 3.4 3.4 3.4 3.4]\n",
      " [3.4 3.4 3.4 3.4 3.4]\n",
      " [3.5 3.5 3.5 3.5 3.5]\n",
      " [3.6 3.6 3.6 3.6 3.6]\n",
      " [3.7 3.7 3.7 3.7 3.7]\n",
      " [3.8 3.8 3.8 3.8 3.8]\n",
      " [4.1 4.1 4.1 4.1 4.1]]\n"
     ]
    }
   ],
   "source": [
    "for i in range (0,150,5): \n",
    "    k=int(i/5) \n",
    "    for j in range (5): \n",
    "        bin3[k,j]=b[i+2]\n",
    "print(\"Bin Median: \\n\",bin3) "
   ]
  },
  {
   "cell_type": "markdown",
   "metadata": {},
   "source": [
    "## Bin boundaries"
   ]
  },
  {
   "cell_type": "code",
   "execution_count": 43,
   "metadata": {},
   "outputs": [
    {
     "name": "stdout",
     "output_type": "stream",
     "text": [
      "Bin Boundaries: \n",
      " [[2.  2.3 2.3 2.3 2.3]\n",
      " [2.3 2.3 2.3 2.4 2.4]\n",
      " [2.4 2.5 2.5 2.5 2.5]\n",
      " [2.5 2.5 2.5 2.5 2.6]\n",
      " [2.6 2.6 2.6 2.6 2.7]\n",
      " [2.7 2.7 2.7 2.7 2.7]\n",
      " [2.7 2.7 2.7 2.8 2.8]\n",
      " [2.8 2.8 2.8 2.8 2.8]\n",
      " [2.8 2.8 2.8 2.8 2.8]\n",
      " [2.8 2.8 2.9 2.9 2.9]\n",
      " [2.9 2.9 2.9 2.9 2.9]\n",
      " [2.9 2.9 3.  3.  3. ]\n",
      " [3.  3.  3.  3.  3. ]\n",
      " [3.  3.  3.  3.  3. ]\n",
      " [3.  3.  3.  3.  3. ]\n",
      " [3.  3.  3.  3.  3. ]\n",
      " [3.  3.  3.  3.1 3.1]\n",
      " [3.1 3.1 3.1 3.1 3.1]\n",
      " [3.1 3.1 3.1 3.1 3.1]\n",
      " [3.2 3.2 3.2 3.2 3.2]\n",
      " [3.2 3.2 3.2 3.2 3.2]\n",
      " [3.2 3.2 3.2 3.3 3.3]\n",
      " [3.3 3.3 3.3 3.3 3.4]\n",
      " [3.4 3.4 3.4 3.4 3.4]\n",
      " [3.4 3.4 3.4 3.4 3.4]\n",
      " [3.4 3.5 3.5 3.5 3.5]\n",
      " [3.5 3.5 3.6 3.6 3.6]\n",
      " [3.7 3.7 3.7 3.8 3.8]\n",
      " [3.8 3.8 3.8 3.8 3.9]\n",
      " [3.9 3.9 3.9 4.4 4.4]]\n"
     ]
    }
   ],
   "source": [
    "for i in range (0,150,5): \n",
    "    k=int(i/5) \n",
    "    for j in range(5): \n",
    "        if (b[i+j]-b[i]) < (b[i+4]-b[i+j]): \n",
    "            bin2[k,j]=b[i] \n",
    "        else: \n",
    "            bin2[k,j]=b[i+4]        \n",
    "print(\"Bin Boundaries: \\n\",bin2) "
   ]
  }
 ],
 "metadata": {
  "kernelspec": {
   "display_name": "Python 3",
   "language": "python",
   "name": "python3"
  },
  "language_info": {
   "codemirror_mode": {
    "name": "ipython",
    "version": 3
   },
   "file_extension": ".py",
   "mimetype": "text/x-python",
   "name": "python",
   "nbconvert_exporter": "python",
   "pygments_lexer": "ipython3",
   "version": "3.7.0"
  }
 },
 "nbformat": 4,
 "nbformat_minor": 2
}
